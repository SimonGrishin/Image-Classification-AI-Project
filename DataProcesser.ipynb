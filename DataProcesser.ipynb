{
 "cells": [
  {
   "cell_type": "code",
   "execution_count": null,
   "metadata": {},
   "outputs": [],
   "source": [
    "import os\n",
    "import numpy as np\n",
    "from PIL import Image"
   ]
  },
  {
   "cell_type": "code",
   "execution_count": null,
   "metadata": {},
   "outputs": [],
   "source": [
    "#import relevant variables from Berkley assignment\n",
    "\n",
    "TEST_SET_SIZE = 100\n",
    "DIGIT_DATUM_WIDTH=28\n",
    "DIGIT_DATUM_HEIGHT=28\n",
    "FACE_DATUM_WIDTH=60\n",
    "FACE_DATUM_HEIGHT=70"
   ]
  },
  {
   "attachments": {},
   "cell_type": "markdown",
   "metadata": {},
   "source": [
    "The following code will load and save digit and image data as .png files used later for our convolutional neural network. This will make it easier for future processing. '+' symbols were treated as white space and '#' as black space. This function is based off of the preset widths and heights from above."
   ]
  },
  {
   "cell_type": "code",
   "execution_count": 29,
   "metadata": {},
   "outputs": [],
   "source": [
    "def load_and_save_data(source_path, dest_path, width, height):\n",
    "    data = []\n",
    "    for filename in os.listdir(source_path):\n",
    "        if os.path.isdir(os.path.join(source_path, filename)):\n",
    "            continue\n",
    "        with open(os.path.join(source_path, filename), 'r') as f:\n",
    "            if 'labels' in filename:\n",
    "                labels = f.read().strip().split('\\n')\n",
    "                labels = np.array(labels, dtype=np.uint8)\n",
    "                save_labels(labels, os.path.join(dest_path, filename[:-6]))\n",
    "\n",
    "            else:\n",
    "                lines = f.readlines()\n",
    "\n",
    "                count = 1\n",
    "\n",
    "                for i in range(0, len(lines), 28):\n",
    "                    image_data = text_to_image(lines[i:i+28])\n",
    "                    save_image(image_data, filename, count, dest_path)\n",
    "                    count += 1\n",
    "\n",
    "def save_labels(labels, dest_path):\n",
    "    np.savetxt(os.path.join(dest_path, 'labels.csv'), labels, delimiter=',', fmt='%d')\n",
    "\n",
    "def text_to_image(lines):\n",
    "    image_data = []\n",
    "\n",
    "    for line in lines:\n",
    "        row = []\n",
    "        for char in line:\n",
    "            if char == '+':\n",
    "                row.append(255)\n",
    "                continue\n",
    "            elif char == '#':\n",
    "                row.append(0)  # Black pixel value\n",
    "            else:\n",
    "                row.append(255)  # White pixel value\n",
    "        image_data.append(row)\n",
    "\n",
    "    return np.array(image_data, dtype=np.uint8)\n",
    "\n",
    "def save_image(image_data, filename, count, dest_path):\n",
    "    image = Image.fromarray(image_data)\n",
    "\n",
    "    if 'train' in filename:\n",
    "        output_path = os.path.join(dest_path, 'training', str(count) + '.png')\n",
    "    elif 'test' in filename:\n",
    "        output_path = os.path.join(dest_path, 'test', str(count) + '.png')\n",
    "    else:\n",
    "        output_path = os.path.join(dest_path, 'validation', str(count) + '.png')\n",
    "\n",
    "    image.save(output_path)"
   ]
  },
  {
   "cell_type": "code",
   "execution_count": null,
   "metadata": {},
   "outputs": [],
   "source": [
    "#Makes all of the relevant directories for the data\n",
    "\n",
    "def make_directories_digit(dest_path):\n",
    "    dest_path = os.path.join(dest_path, 'processed')\n",
    "    if not os.path.exists(dest_path):\n",
    "        os.makedirs(dest_path)\n",
    "    if not os.path.exists(os.path.join(dest_path, 'training')):\n",
    "        os.makedirs(os.path.join(dest_path, 'training'))\n",
    "    if not os.path.exists(os.path.join(dest_path, 'test')):\n",
    "        os.makedirs(os.path.join(dest_path, 'test'))\n",
    "    if not os.path.exists(os.path.join(dest_path, 'validation')):\n",
    "        os.makedirs(os.path.join(dest_path, 'validation'))\n",
    "\n",
    "def make_directories_face(dest_path):\n",
    "    dest_path = os.path.join(dest_path, 'processed')\n",
    "    if not os.path.exists(dest_path):\n",
    "        os.makedirs(dest_path)\n",
    "    if not os.path.exists(os.path.join(dest_path, 'facedatatrain')):\n",
    "        os.makedirs(os.path.join(dest_path, 'facedatatrain'))\n",
    "    if not os.path.exists(os.path.join(dest_path, 'facedatatest')):\n",
    "        os.makedirs(os.path.join(dest_path, 'facedatatest'))\n",
    "    if not os.path.exists(os.path.join(dest_path, 'facedatavalidation')):\n",
    "        os.makedirs(os.path.join(dest_path, 'facedatavalidation'))"
   ]
  },
  {
   "cell_type": "code",
   "execution_count": 30,
   "metadata": {},
   "outputs": [
    {
     "data": {
      "text/plain": [
       "array([], dtype=uint8)"
      ]
     },
     "execution_count": 30,
     "metadata": {},
     "output_type": "execute_result"
    }
   ],
   "source": [
    "make_directories_digit('digitdata/')\n",
    "make_directories_face('facedata/')\n",
    "load_and_save_data('digitdata/', 'digitdata/processed/', DIGIT_DATUM_WIDTH, DIGIT_DATUM_HEIGHT)"
   ]
  }
 ],
 "metadata": {
  "kernelspec": {
   "display_name": "machineLearning",
   "language": "python",
   "name": "python3"
  },
  "language_info": {
   "codemirror_mode": {
    "name": "ipython",
    "version": 3
   },
   "file_extension": ".py",
   "mimetype": "text/x-python",
   "name": "python",
   "nbconvert_exporter": "python",
   "pygments_lexer": "ipython3",
   "version": "3.9.7"
  },
  "orig_nbformat": 4
 },
 "nbformat": 4,
 "nbformat_minor": 2
}
